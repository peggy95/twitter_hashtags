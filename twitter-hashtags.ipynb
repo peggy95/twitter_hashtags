{
 "cells": [
  {
   "cell_type": "code",
   "execution_count": 1,
   "metadata": {
    "collapsed": true
   },
   "outputs": [],
   "source": [
    "%matplotlib inline\n",
    "import matplotlib.pylab as plt\n",
    "plt.rcParams['figure.figsize'] = (10,6)\n",
    "plt.rcParams['font.size'] = 18\n",
    "plt.style.use('fivethirtyeight')"
   ]
  },
  {
   "cell_type": "markdown",
   "metadata": {},
   "source": [
    "# Uncovering World Events using Twitter Hashtags\n",
    "\n",
    "## ... and learning about Spark `DataFrames` along the way\n",
    "\n",
    "In this notebook, we will use temporal information about Twitter hashtags to discover trending topics and potentially uncover world events as they occurred. You've already used this dataset in a previous homework, but here we will be working with it in Apache Spark.\n",
    "\n",
    "### Hashtags\n",
    "\n",
    "The idea here is that when an event is happening and people are having a conversation about it on Twitter, a set of uniform hashtags that represent the event spontaneously evolves. Twitter users then use those hashtags to communicate with one another. Some hashtags, like `#RT` for \"retweet\" or just `#retweet` are used frequently and don't tell us much about what is going on. But a sudden appearance of a hashtag like `#oscars` probably indicates that the oscars are underway. For a particularly cool example of this type of analysis, check out [this blog post about earthquake detection using Twitter data](https://blog.twitter.com/official/en_us/a/2015/usgs-twitter-data-earthquake-detection.html) (although they search the text and not necessarily hashtags)."
   ]
  },
  {
   "cell_type": "markdown",
   "metadata": {},
   "source": [
    "## Initialize the `SparkSession`"
   ]
  },
  {
   "cell_type": "code",
   "execution_count": 2,
   "metadata": {},
   "outputs": [
    {
     "data": {
      "text/html": [
       "\n",
       "        <div>\n",
       "            <p><b>SparkContext</b></p>\n",
       "\n",
       "            <p><a href=\"http://10.90.38.21:4051\">Spark UI</a></p>\n",
       "\n",
       "            <dl>\n",
       "              <dt>Version</dt>\n",
       "                <dd><code>v2.2.0.2.6.4.0-91</code></dd>\n",
       "              <dt>Master</dt>\n",
       "                <dd><code>yarn</code></dd>\n",
       "              <dt>AppName</dt>\n",
       "                <dd><code>twitter-pewang</code></dd>\n",
       "            </dl>\n",
       "        </div>\n",
       "        "
      ],
      "text/plain": [
       "<SparkContext master=yarn appName=twitter-pewang>"
      ]
     },
     "execution_count": 2,
     "metadata": {},
     "output_type": "execute_result"
    }
   ],
   "source": [
    "import getpass\n",
    "import pyspark\n",
    "from pyspark.sql import SparkSession\n",
    "\n",
    "conf = pyspark.conf.SparkConf()\n",
    "conf.setMaster('yarn')\n",
    "conf.setAppName('twitter-{0}'.format(getpass.getuser()))\n",
    "conf.set('spark.executor.memory', '100G')\n",
    "conf.set('spark.executor.instances', '6')\n",
    "conf.set('spark.port.maxRetries', '100')\n",
    "# conf.set('spark.driver.maxResultSize', '10G')\n",
    "# conf.set('spark.driver.allowMultipleContexts' , True)\n",
    "sc = pyspark.SparkContext.getOrCreate(conf)\n",
    "conf = sc.getConf()\n",
    "sc"
   ]
  },
  {
   "cell_type": "code",
   "execution_count": 3,
   "metadata": {
    "collapsed": true
   },
   "outputs": [],
   "source": [
    "spark = SparkSession(sc)"
   ]
  },
  {
   "cell_type": "markdown",
   "metadata": {},
   "source": [
    "## Set up the hashtag `DataFrame` (10 points / 60)\n",
    "\n",
    "We have prepared the hashtag data spanning the time from April-July 2016. This is a significant time in modern European history, e.g. see [Brexit](https://en.wikipedia.org/wiki/Brexit). Lets see if we can see any interesting trends about these events in the Twitter data. "
   ]
  },
  {
   "cell_type": "code",
   "execution_count": 4,
   "metadata": {
    "collapsed": true
   },
   "outputs": [],
   "source": [
    "from datetime import datetime\n",
    "\n",
    "import pyspark.sql.functions as functions"
   ]
  },
  {
   "cell_type": "markdown",
   "metadata": {},
   "source": [
    "### TODO (1 point/10)\n",
    "\n",
    "Load the **parquet** data from `/datasets/twitter_hashtags` into a Spark dataframe using the appropriate `SparkSession` method. \n",
    "\n",
    "Look at the first few rows of the dataset - note the timestamp and its units!"
   ]
  },
  {
   "cell_type": "code",
   "execution_count": 5,
   "metadata": {
    "collapsed": true
   },
   "outputs": [],
   "source": [
    "df = spark.read.parquet('/datasets/twitter_hashtags')"
   ]
  },
  {
   "cell_type": "code",
   "execution_count": 6,
   "metadata": {},
   "outputs": [
    {
     "name": "stdout",
     "output_type": "stream",
     "text": [
      "+-------------+----+-------------+\n",
      "| timestamp_ms|lang|      hashtag|\n",
      "+-------------+----+-------------+\n",
      "|1459492860657| und|   2896Nation|\n",
      "|1459492860657| und|     Republik|\n",
      "|1459492860658|  en|          win|\n",
      "|1459492860658|  en|  competition|\n",
      "|1459492860658|  en|     giveaway|\n",
      "|1459492860664|  tl| ALDUBYayaWho|\n",
      "|1459492860663|  th|        ไคตัล|\n",
      "|1459492860660|  es|      muybien|\n",
      "|1459492860660|  th|    FLY2NDWIN|\n",
      "|1459492860665|  en|      5SOSFam|\n",
      "|1459492860665|  en|  BestFanArmy|\n",
      "|1459492860665|  en| iHeartAwards|\n",
      "|1459492861661|  ja|      hempire|\n",
      "|1459492861657|  th|        ไคตัล|\n",
      "|1459492861657|  es|    Venezuela|\n",
      "|1459492861657|  es|   cristianos|\n",
      "|1459492861660| und|         RUSH|\n",
      "|1459492861660| und|        TFBJP|\n",
      "|1459492861660| und|       TFBANG|\n",
      "|1459492861661|  en|BirdieSanders|\n",
      "+-------------+----+-------------+\n",
      "only showing top 20 rows\n",
      "\n"
     ]
    }
   ],
   "source": [
    "df.show()"
   ]
  },
  {
   "cell_type": "markdown",
   "metadata": {},
   "source": [
    "### User-defined functions\n",
    "\n",
    "A neat trick of spark dataframes is that you can essentially use something very much like an RDD `map` method but without switching to the RDD. If you are familiar with database languages, this works very much like e.g. a user-defined function in SQL. \n",
    "\n",
    "So, for example, if we wanted to make a user-defined python function that returns the hashtags in lowercase, we could do something like this:"
   ]
  },
  {
   "cell_type": "code",
   "execution_count": 7,
   "metadata": {
    "collapsed": true
   },
   "outputs": [],
   "source": [
    "@functions.udf\n",
    "def lowercase(text):\n",
    "    \"\"\"Convert text to lowercase\"\"\"\n",
    "    return text.lower()"
   ]
  },
  {
   "cell_type": "markdown",
   "metadata": {},
   "source": [
    "The @functions.udf is a \"decorator\" -- this is really handy python syntactic sugar and in this case is equivalent to:\n",
    "\n",
    "```\n",
    "def lowercase(text):\n",
    "    return text.lower()\n",
    "    \n",
    "lowercase = functions.udf(lowercase)\n",
    "```\n",
    "\n",
    "It basically takes our function and adds to its functionality. In this case, it registers our function as a pyspark dataframe user-defined function (UDF).\n",
    "\n",
    "Using these UDFs is very straightforward and analogous to other Spark dataframe operations. For example:"
   ]
  },
  {
   "cell_type": "code",
   "execution_count": 8,
   "metadata": {},
   "outputs": [
    {
     "name": "stdout",
     "output_type": "stream",
     "text": [
      "+------------------+\n",
      "|lowercase(hashtag)|\n",
      "+------------------+\n",
      "|        2896nation|\n",
      "|          republik|\n",
      "|               win|\n",
      "|       competition|\n",
      "|          giveaway|\n",
      "|      aldubyayawho|\n",
      "|             ไคตัล|\n",
      "|           muybien|\n",
      "|         fly2ndwin|\n",
      "|           5sosfam|\n",
      "|       bestfanarmy|\n",
      "|      iheartawards|\n",
      "|           hempire|\n",
      "|             ไคตัล|\n",
      "|         venezuela|\n",
      "|        cristianos|\n",
      "|              rush|\n",
      "|             tfbjp|\n",
      "|            tfbang|\n",
      "|     birdiesanders|\n",
      "+------------------+\n",
      "only showing top 20 rows\n",
      "\n"
     ]
    }
   ],
   "source": [
    "df.select(lowercase(df.hashtag)).show()"
   ]
  },
  {
   "cell_type": "markdown",
   "metadata": {},
   "source": [
    "Using a framework like Spark is all about understanding the ins and outs of how it functions and knowing what it offers. One of the cool things about the dataframe API is that many functions are already defined for you (turning strings into lowercase being one of them). \n",
    "\n",
    "### TODO (2 points / 10)\n",
    "\n",
    "Find the Spark python API documentation. Look for the `sql` section and find the listing of `sql.functions`. Repeat the above (turning hashtags into lowercase) but use the built-in function."
   ]
  },
  {
   "cell_type": "code",
   "execution_count": 9,
   "metadata": {},
   "outputs": [
    {
     "name": "stdout",
     "output_type": "stream",
     "text": [
      "+--------------+\n",
      "|lower(hashtag)|\n",
      "+--------------+\n",
      "|    2896nation|\n",
      "|      republik|\n",
      "|           win|\n",
      "|   competition|\n",
      "|      giveaway|\n",
      "|  aldubyayawho|\n",
      "|         ไคตัล|\n",
      "|       muybien|\n",
      "|     fly2ndwin|\n",
      "|       5sosfam|\n",
      "|   bestfanarmy|\n",
      "|  iheartawards|\n",
      "|       hempire|\n",
      "|         ไคตัล|\n",
      "|     venezuela|\n",
      "|    cristianos|\n",
      "|          rush|\n",
      "|         tfbjp|\n",
      "|        tfbang|\n",
      "| birdiesanders|\n",
      "+--------------+\n",
      "only showing top 20 rows\n",
      "\n"
     ]
    }
   ],
   "source": [
    "df.select(functions.lower(df.hashtag)).show()"
   ]
  },
  {
   "cell_type": "markdown",
   "metadata": {},
   "source": [
    "We'll work with a combination of these built-in functions and user-defined functions for the remainder of this homework. \n",
    "\n",
    "### TODO (7 points/10)\n",
    "\n",
    "Create `english_df` consisting of **lowercase** hashtags from only english-language tweets. In addition, convert the timestamp to a more readable format like this and name the column `date`:\n",
    "\n",
    "```\n",
    "2016-04-01 08:41:00\n",
    "```"
   ]
  },
  {
   "cell_type": "markdown",
   "metadata": {},
   "source": [
    "Your `english_df` should look something like this:\n",
    "\n",
    "```\n",
    "+-------------+----+-----------+-------------------+\n",
    "| timestamp_ms|lang|    hashtag|               date|\n",
    "+-------------+----+-----------+-------------------+\n",
    "|1459492860658|  en|        win|2016-04-01 08:41:00|\n",
    "|1459492860658|  en|competition|2016-04-01 08:41:00|\n",
    "|1459492860658|  en|   giveaway|2016-04-01 08:41:00|\n",
    "|1459492860665|  en|    5sosfam|2016-04-01 08:41:00|\n",
    "|1459492860665|  en|bestfanarmy|2016-04-01 08:41:00|\n",
    "+-------------+----+-----------+-------------------+\n",
    "```"
   ]
  },
  {
   "cell_type": "code",
   "execution_count": 10,
   "metadata": {
    "collapsed": true
   },
   "outputs": [],
   "source": [
    "format = \"yyyy-MM-dd HH:mm:ss\"\n",
    "english_df = (df.filter(df.lang.isin('en'))\n",
    "              .withColumn('hashtag',functions.lower(df.hashtag))\n",
    "              .withColumn('date',functions.from_unixtime(df.timestamp_ms/1000, format))\n",
    "              .cache()\n",
    "             )"
   ]
  },
  {
   "cell_type": "code",
   "execution_count": 11,
   "metadata": {},
   "outputs": [
    {
     "name": "stdout",
     "output_type": "stream",
     "text": [
      "+-------------+----+-------------+-------------------+\n",
      "| timestamp_ms|lang|      hashtag|               date|\n",
      "+-------------+----+-------------+-------------------+\n",
      "|1459492860658|  en|          win|2016-04-01 08:41:00|\n",
      "|1459492860658|  en|  competition|2016-04-01 08:41:00|\n",
      "|1459492860658|  en|     giveaway|2016-04-01 08:41:00|\n",
      "|1459492860665|  en|      5sosfam|2016-04-01 08:41:00|\n",
      "|1459492860665|  en|  bestfanarmy|2016-04-01 08:41:00|\n",
      "|1459492860665|  en| iheartawards|2016-04-01 08:41:00|\n",
      "|1459492861661|  en|birdiesanders|2016-04-01 08:41:01|\n",
      "|1459492861665|  en|     deals_us|2016-04-01 08:41:01|\n",
      "|1459492861665|  en|   cellphones|2016-04-01 08:41:01|\n",
      "|1459492862658|  en| iheartawards|2016-04-01 08:41:02|\n",
      "|1459492862658|  en|  bestfanarmy|2016-04-01 08:41:02|\n",
      "|1459492862658|  en|      5sosfam|2016-04-01 08:41:02|\n",
      "|1459492862661|  en|     msgprays|2016-04-01 08:41:02|\n",
      "|1459492863665|  en|   5050fusion|2016-04-01 08:41:03|\n",
      "|1459492863665|  en|          ind|2016-04-01 08:41:03|\n",
      "|1459492863660|  en|         news|2016-04-01 08:41:03|\n",
      "|1459492863660|  en|       attack|2016-04-01 08:41:03|\n",
      "|1459492863659|  en|  harmonizers|2016-04-01 08:41:03|\n",
      "|1459492863659|  en| iheartawards|2016-04-01 08:41:03|\n",
      "|1459492863659|  en|  bestfanarmy|2016-04-01 08:41:03|\n",
      "+-------------+----+-------------+-------------------+\n",
      "only showing top 20 rows\n",
      "\n"
     ]
    }
   ],
   "source": [
    "english_df.show()"
   ]
  },
  {
   "cell_type": "markdown",
   "metadata": {},
   "source": [
    "## Twitter hashtag trends (50 points / 60)\n",
    "\n",
    "In this section we will try to do a slightly more complicated analysis of the tweets. Our goal is to get an idea of tweet frequency as a function of time for certain hashtags. \n",
    "\n",
    "Lets build this up in steps. First, lets see how we can start to organize the tweets by their timestamps. \n",
    "\n",
    "As a first easy example, lets say we just want to count the number of tweets per minute over the entire span of our data. For this, we first need a \"global\" minute value, e.g. \"minute of the year\" or something similar. \n",
    "\n",
    "Spark provides us with some handy built-in dataframe functions that are made for transforming date and time fields. \n",
    "\n",
    "Have a look [here](http://spark.apache.org/docs/latest/api/python/pyspark.sql.html#module-pyspark.sql.functions) to see the whole list of custom dataframe functions - you will need to use them to complete the next set of TODO items."
   ]
  },
  {
   "cell_type": "markdown",
   "metadata": {},
   "source": [
    "Note that the functions can be combined. Consider the following dataframe and its transformation:"
   ]
  },
  {
   "cell_type": "code",
   "execution_count": 12,
   "metadata": {},
   "outputs": [
    {
     "name": "stdout",
     "output_type": "stream",
     "text": [
      "+---------------------+\n",
      "|SIN(RADIANS(degrees))|\n",
      "+---------------------+\n",
      "|                  0.0|\n",
      "|  0.01745240643728351|\n",
      "|  0.03489949670250097|\n",
      "|  0.05233595624294383|\n",
      "|   0.0697564737441253|\n",
      "|  0.08715574274765817|\n",
      "|  0.10452846326765346|\n",
      "|  0.12186934340514748|\n",
      "|  0.13917310096006544|\n",
      "|  0.15643446504023087|\n",
      "|  0.17364817766693033|\n",
      "|   0.1908089953765448|\n",
      "|  0.20791169081775931|\n",
      "|  0.22495105434386498|\n",
      "|  0.24192189559966773|\n",
      "|  0.25881904510252074|\n",
      "|  0.27563735581699916|\n",
      "|   0.2923717047227367|\n",
      "|   0.3090169943749474|\n",
      "|   0.3255681544571567|\n",
      "+---------------------+\n",
      "only showing top 20 rows\n",
      "\n"
     ]
    }
   ],
   "source": [
    "from pyspark.sql import Row\n",
    "\n",
    "# create a sample dataframe with one column \"degrees\" going from 0 to 180\n",
    "test_df = spark.createDataFrame(sc.range(180).map(lambda x: Row(degrees=x)), ['degrees'])\n",
    "\n",
    "# define a function \"sin_rad\" that first converts degrees to radians and then takes the sine using built-in functions\n",
    "sin_rad = functions.sin(functions.radians(test_df.degrees))\n",
    "\n",
    "# show the result\n",
    "test_df.select(sin_rad).show()"
   ]
  },
  {
   "cell_type": "markdown",
   "metadata": {},
   "source": [
    "### DataFrames `groupBy`\n",
    "\n",
    "We used `groupBy` already in the previous notebook, but here we will take more advantage of its features. \n",
    "\n",
    "One important thing to note is that unlike other RDD or DataFrame transformations, the `groupBy` does not return another DataFrame, but a `GroupedData` object instead, with its own methods. These methods allow you to do various transformations and aggregations on the data of the grouped rows. \n",
    "\n",
    "Conceptually the procedure is a lot like this:\n",
    "\n",
    "![groupby](https://i.stack.imgur.com/sgCn1.jpg)\n",
    "\n",
    "The column that is used for the `groupBy` is the `key` - once we have the values of a particular key all together, we can use various aggregation functions on them to generate a transformed dataset. In this example, the aggregation function is a simple `sum`. In the simple procedure below, the `key` will be the hashtag."
   ]
  },
  {
   "cell_type": "markdown",
   "metadata": {},
   "source": [
    "### TODO (1 point / 50)\n",
    "\n",
    "Calculate the top five most common hashtags in the whole english-language dataset.\n",
    "\n",
    "This should be your result:\n",
    "\n",
    "```\n",
    "+-------------+------+\n",
    "|      hashtag| count|\n",
    "+-------------+------+\n",
    "|   mtvhottest|800829|\n",
    "|veranomtv2016|539028|\n",
    "| iheartawards|447651|\n",
    "|  bestfanarmy|429739|\n",
    "|   teenchoice|345250|\n",
    "+-------------+------+\n",
    "```"
   ]
  },
  {
   "cell_type": "code",
   "execution_count": 13,
   "metadata": {
    "scrolled": false
   },
   "outputs": [
    {
     "name": "stdout",
     "output_type": "stream",
     "text": [
      "+-------------+------+\n",
      "|      hashtag| count|\n",
      "+-------------+------+\n",
      "|   mtvhottest|800829|\n",
      "|veranomtv2016|539028|\n",
      "| iheartawards|447651|\n",
      "|  bestfanarmy|429739|\n",
      "|   teenchoice|345250|\n",
      "+-------------+------+\n",
      "only showing top 5 rows\n",
      "\n"
     ]
    }
   ],
   "source": [
    "(english_df.groupBy(english_df.hashtag).count()\n",
    "                 .sort(\"count\",ascending=False)\n",
    "                 .show(5))"
   ]
  },
  {
   "cell_type": "markdown",
   "metadata": {},
   "source": [
    "## Daily hashtag trends\n",
    "\n",
    "Now we will start to complicate the analysis a bit. Remember, our goal is to uncover trending topics on a timescale of a few days. A much needed column then is simply `day`. To convert the date string into day-of-year, you can use the built-in [dayofyear](http://spark.apache.org/docs/latest/api/python/pyspark.sql.html#pyspark.sql.functions.dayofyear) function. \n",
    "\n",
    "In the subsequent sections we will then not only see which hashtags are globally most popular, but which ones experience the biggest changes in popularity - those are the \"trending\" topics. If there is suddenly a substantial increase of a hashtag over a matter of a day or two, it may signify an event taking place. "
   ]
  },
  {
   "cell_type": "markdown",
   "metadata": {},
   "source": [
    "### TODO (2 points / 50)\n",
    "\n",
    "Create a dataframe called `daily_hashtag` that includes the columns `month`, `week`, `day` and `hashtag`. Use the `english_df` you made above to start, and make sure you find the appropriate spark dataframe functions to make your life easier. Show the result.\n",
    "\n",
    "Try to match this view:\n",
    "\n",
    "```\n",
    "+-----+----+---+-----------+\n",
    "|month|week|day|    hashtag|\n",
    "+-----+----+---+-----------+\n",
    "|    4|  13| 92|        win|\n",
    "|    4|  13| 92|competition|\n",
    "|    4|  13| 92|   giveaway|\n",
    "|    4|  13| 92|    5sosfam|\n",
    "|    4|  13| 92|bestfanarmy|\n",
    "+-----+----+---+-----------+\n",
    "```"
   ]
  },
  {
   "cell_type": "code",
   "execution_count": 15,
   "metadata": {},
   "outputs": [
    {
     "name": "stdout",
     "output_type": "stream",
     "text": [
      "+-----+----+---+-----------+\n",
      "|month|week|day|    hashtag|\n",
      "+-----+----+---+-----------+\n",
      "|    4|  13| 92|        win|\n",
      "|    4|  13| 92|competition|\n",
      "|    4|  13| 92|   giveaway|\n",
      "|    4|  13| 92|    5sosfam|\n",
      "|    4|  13| 92|bestfanarmy|\n",
      "+-----+----+---+-----------+\n",
      "only showing top 5 rows\n",
      "\n"
     ]
    }
   ],
   "source": [
    "daily_hashtag = english_df.select(functions.month('date').alias('month'),\n",
    "                                  functions.weekofyear('date').alias('week'),\n",
    "                                  functions.dayofyear('date').alias('day'),\n",
    "                                  'hashtag').cache()\n",
    "daily_hashtag.show(5)"
   ]
  },
  {
   "cell_type": "markdown",
   "metadata": {},
   "source": [
    "### TODO (2 points / 50)\n",
    "\n",
    "Now we want to calculate the number of times a hashtag is used per day. Sort in descending order of daily counts and show the result. Call the resulting dataframe `day_counts`.\n",
    "\n",
    "Your output should look like this:\n",
    "\n",
    "```\n",
    "+---+------------+----+------+\n",
    "|day|     hashtag|week| count|\n",
    "+---+------------+----+------+\n",
    "| 94|iheartawards|  13|190884|\n",
    "| 94| bestfanarmy|  13|185789|\n",
    "| 93|iheartawards|  13|124645|\n",
    "| 93| bestfanarmy|  13|122741|\n",
    "| 95|iheartawards|  14| 91921|\n",
    "+---+------------+----+------+\n",
    "```\n",
    "\n",
    "<div class=\"alert alert-info\">\n",
    "<p>Make sure you use `cache()` when you create `day_counts` because we will need it in the steps that follow!</p>\n",
    "</div>"
   ]
  },
  {
   "cell_type": "code",
   "execution_count": 16,
   "metadata": {},
   "outputs": [
    {
     "name": "stdout",
     "output_type": "stream",
     "text": [
      "+---+------------+----+------+\n",
      "|day|     hashtag|week| count|\n",
      "+---+------------+----+------+\n",
      "| 94|iheartawards|  13|190884|\n",
      "| 94| bestfanarmy|  13|185789|\n",
      "| 93|iheartawards|  13|124645|\n",
      "| 93| bestfanarmy|  13|122741|\n",
      "| 95|iheartawards|  14| 91921|\n",
      "+---+------------+----+------+\n",
      "only showing top 5 rows\n",
      "\n"
     ]
    }
   ],
   "source": [
    "day_counts = (daily_hashtag.groupBy('day','hashtag','week').count()\n",
    "                           .sort(\"count\",ascending=False)\n",
    "                           .cache())\n",
    "day_counts.show(5)"
   ]
  },
  {
   "cell_type": "markdown",
   "metadata": {},
   "source": [
    "### TODO (5 points / 50)\n",
    "\n",
    "To get an idea of the most popular persistent hashtags, use the `week` column that we kept around to calculate the average number of times per day that a hashtag occurs in a week. Sort in descending order and show the top 20."
   ]
  },
  {
   "cell_type": "code",
   "execution_count": 17,
   "metadata": {
    "scrolled": false
   },
   "outputs": [
    {
     "name": "stdout",
     "output_type": "stream",
     "text": [
      "+----+-----------------+------------------+\n",
      "|week|          hashtag|               avg|\n",
      "+----+-----------------+------------------+\n",
      "|  13|     iheartawards|117272.33333333333|\n",
      "|  13|      bestfanarmy|114718.66666666667|\n",
      "|  29|       mtvhottest| 52061.42857142857|\n",
      "|  30|       mtvhottest|           47927.0|\n",
      "|  13|          5sosfam|41642.333333333336|\n",
      "|  13|      harmonizers|           40434.0|\n",
      "|  13|     directioners|30483.666666666668|\n",
      "|  19|       teenchoice|20068.571428571428|\n",
      "|  25|    veranomtv2016| 17867.85714285714|\n",
      "|  26|    veranomtv2016| 17116.14285714286|\n",
      "|  15|aldub9thmonthsary|16189.666666666666|\n",
      "|  27|    veranomtv2016| 14476.57142857143|\n",
      "|  31|       mtvhottest|           14062.0|\n",
      "|  14|     iheartawards|13457.142857142857|\n",
      "|  30|    veranomtv2016|12510.285714285714|\n",
      "|  28|       mtvhottest|12287.714285714286|\n",
      "|  23|    mtvawardsstar|12191.833333333334|\n",
      "|  14|      bestfanarmy| 12039.42857142857|\n",
      "|  23|     ripchristina|           11963.5|\n",
      "|  27|    altonsterling|           10266.2|\n",
      "+----+-----------------+------------------+\n",
      "only showing top 20 rows\n",
      "\n"
     ]
    }
   ],
   "source": [
    "(day_counts.groupBy('week','hashtag')\n",
    "           .agg(functions.avg(\"count\").alias('avg'))\n",
    "           .sort('avg',ascending=False)\n",
    "           .show(20))"
   ]
  },
  {
   "cell_type": "markdown",
   "metadata": {},
   "source": [
    "First we could just use average function to get the average counts per day when this hashtag appeared in some days. However, we pay attention to the most popular **persistent** hashtags, which means we should get the sum of a week and divide the sum by 7 to count for geting the **persistent** hashtags. \n",
    "\n",
    "The following method might be a better way to get the average number of times per day that a hashtag occurs in a week."
   ]
  },
  {
   "cell_type": "code",
   "execution_count": 41,
   "metadata": {},
   "outputs": [],
   "source": [
    "@functions.udf\n",
    "def divide(num):\n",
    "    \"\"\"Average the count by 7\"\"\"\n",
    "    return num/7"
   ]
  },
  {
   "cell_type": "code",
   "execution_count": 53,
   "metadata": {},
   "outputs": [
    {
     "name": "stdout",
     "output_type": "stream",
     "text": [
      "+----+------------------+------------------+\n",
      "|week|           hashtag|               avg|\n",
      "+----+------------------+------------------+\n",
      "|  29|        mtvhottest| 52061.42857142857|\n",
      "|  13|      iheartawards|50259.571428571435|\n",
      "|  13|       bestfanarmy| 49165.14285714286|\n",
      "|  30|        mtvhottest| 47926.99999999999|\n",
      "|  19|        teenchoice|20068.571428571424|\n",
      "|  25|     veranomtv2016| 17867.85714285714|\n",
      "|  13|           5sosfam|17846.714285714286|\n",
      "|  13|       harmonizers| 17328.85714285714|\n",
      "|  26|     veranomtv2016|17116.142857142855|\n",
      "|  27|     veranomtv2016|14476.571428571428|\n",
      "|  14|      iheartawards|13457.142857142859|\n",
      "|  13|      directioners|13064.428571428572|\n",
      "|  30|     veranomtv2016|12510.285714285714|\n",
      "|  28|        mtvhottest|12287.714285714284|\n",
      "|  14|       bestfanarmy|12039.428571428572|\n",
      "|  23|     mtvawardsstar|10450.142857142859|\n",
      "|  30|      demsinphilly|10063.714285714286|\n",
      "|  29|     veranomtv2016| 8323.857142857143|\n",
      "|  29|          rncincle| 8195.285714285716|\n",
      "|  30|pushawardslizquens| 8147.999999999999|\n",
      "+----+------------------+------------------+\n",
      "only showing top 20 rows\n",
      "\n"
     ]
    }
   ],
   "source": [
    "(day_counts.groupBy('week','hashtag')\n",
    "           .agg(functions.sum(divide(\"count\")).alias('avg'))\n",
    "           .sort('avg',ascending=False)\n",
    "           .show(20))"
   ]
  },
  {
   "cell_type": "markdown",
   "metadata": {},
   "source": [
    "### Using `Window` functions \n",
    "\n",
    "Window functions are another awesome feature of dataframes. They allow users to accomplish complex tasks using very concise and simple code. \n",
    "\n",
    "Above we computed just the hashtag that had the most occurrences on *any* day. Now lets say we want to know the top tweets for *each* day.  \n",
    "\n",
    "This is a non-trivial thing to compute and requires \"windowing\" our data. I recommend reading this [window functions article](https://databricks.com/blog/2015/07/15/introducing-window-functions-in-spark-sql.html) to get acquainted with the idea. You can think of a window function as a fine-grained and more flexible `groupBy`. \n",
    "\n",
    "There are two things we need to define to use window functions:\n",
    "\n",
    "1. the \"window\" to use, based on which columns (partitioning) and how the rows should be ordered \n",
    "2. the computation to carry out for each windowed group, e.g. a max, an average etc.\n",
    "\n",
    "Lets see how this works by example. We will define a window function, `daily_window` that will partition data based on the `day` column. Within each window, the rows will be ordered by the daily hashtag count that we computed above. Finally, we will use the rank function **over** this window to give us the ranking of top tweets. \n",
    "\n",
    "In the end, this is a fairly complicated operation achieved in just a few lines of code! (can you think of how to do this with an RDD??)"
   ]
  },
  {
   "cell_type": "code",
   "execution_count": 54,
   "metadata": {
    "collapsed": true
   },
   "outputs": [],
   "source": [
    "from pyspark.sql import Window"
   ]
  },
  {
   "cell_type": "markdown",
   "metadata": {},
   "source": [
    "First, we specify the window function and the ordering:"
   ]
  },
  {
   "cell_type": "code",
   "execution_count": 55,
   "metadata": {
    "collapsed": true
   },
   "outputs": [],
   "source": [
    "daily_window = Window.partitionBy('day').orderBy(functions.desc('count'))"
   ]
  },
  {
   "cell_type": "markdown",
   "metadata": {},
   "source": [
    "The above window function says that we should window the data on the `day` column and order it by count. \n",
    "\n",
    "Now we need to define what we want to compute on the windowed data. We will start by just calculating the daily ranking of hashtags, so we can use the helpful built-in `functions.rank()` and sort:"
   ]
  },
  {
   "cell_type": "code",
   "execution_count": 56,
   "metadata": {
    "collapsed": true
   },
   "outputs": [],
   "source": [
    "daily_rank = functions.rank() \\\n",
    "                      .over(daily_window) \\\n",
    "                      .alias('rank')"
   ]
  },
  {
   "cell_type": "markdown",
   "metadata": {},
   "source": [
    "Now we have the pieces we need to compute the top five hashtags for each day in our data:"
   ]
  },
  {
   "cell_type": "code",
   "execution_count": 57,
   "metadata": {},
   "outputs": [
    {
     "name": "stdout",
     "output_type": "stream",
     "text": [
      "+---+------+------------+----+\n",
      "|day| count|     hashtag|rank|\n",
      "+---+------+------------+----+\n",
      "| 92| 36288|iheartawards|   1|\n",
      "| 92| 35626| bestfanarmy|   2|\n",
      "| 92| 15678| harmonizers|   3|\n",
      "| 92| 13962|     5sosfam|   4|\n",
      "| 92|  5528|directioners|   5|\n",
      "| 93|124645|iheartawards|   1|\n",
      "| 93|122741| bestfanarmy|   2|\n",
      "| 93| 50782| harmonizers|   3|\n",
      "| 93| 42458|     5sosfam|   4|\n",
      "| 93| 28171|directioners|   5|\n",
      "| 94|190884|iheartawards|   1|\n",
      "| 94|185789| bestfanarmy|   2|\n",
      "| 94| 68507|     5sosfam|   3|\n",
      "| 94| 57752|directioners|   4|\n",
      "| 94| 54842| harmonizers|   5|\n",
      "| 95| 91921|iheartawards|   1|\n",
      "| 95| 83197| bestfanarmy|   2|\n",
      "| 95| 41305|     5sosfam|   3|\n",
      "| 95| 20245| harmonizers|   4|\n",
      "| 95| 18909|wrestlemania|   5|\n",
      "+---+------+------------+----+\n",
      "only showing top 20 rows\n",
      "\n"
     ]
    }
   ],
   "source": [
    "(day_counts.select('day', 'count', 'hashtag', daily_rank)\n",
    "           .filter('rank <= 5')\n",
    "           .sort('day', 'rank')\n",
    "           .show())"
   ]
  },
  {
   "cell_type": "markdown",
   "metadata": {},
   "source": [
    "### A more complicated `Window` example: calculating the daily standard deviation based on a weekly window\n",
    "\n",
    "The above list of top daily hashtags is interesting, but it really only uncovers very frequent hashtags. We want to try and identify \"world events\" and for that we need to detect trending hashtags by spotting a rapid *change* in the tweeting pattern. \n",
    "\n",
    "One very simple model to do this is to just look at the whether the hashtags mentions on a given day are much higher than on average. For this, we can calculate the daily standard deviation using a baseline mean, such as a week.\n",
    "\n",
    "Remember, variance is just:\n",
    "\n",
    "$$\\sigma^2 = \\sum_i{(x_i-\\mu)^2},$$\n",
    "\n",
    "where $x_i$ is the daily count of a hashtag and $\\mu$ is the weekly average. \n",
    "\n",
    "So the procedure is something like this: \n",
    "\n",
    "1. calculate $\\mu$ for each hastag and each week\n",
    "2. compute the sum of the differences squared \n",
    "3. order tweets for each week in order of decreasing $\\sigma$\n"
   ]
  },
  {
   "cell_type": "markdown",
   "metadata": {},
   "source": [
    "## TODO - Compute the top five trending tweets per week (25 points / 50)\n",
    "\n",
    "Use window functions to calculate the variance for each hashtag and each week. Produce a weekly ranking of tweets based on their variance and print the top five tweets for each week. The output should look like this:\n",
    "\n",
    "```\n",
    "Top ten hashtags with highest variation each week\n",
    "+----+--------------------+--------------------+----+\n",
    "|week|             hashtag|            variance|rank|\n",
    "+----+--------------------+--------------------+----+\n",
    "|  13|        iheartawards|1.203149592866666...|   1|\n",
    "|  13|         bestfanarmy|1.137100003266666...|   2|\n",
    "|  13|             5sosfam|1.4885764806666665E9|   3|\n",
    "|  13|        directioners|1.3716957286666665E9|   4|\n",
    "|  13|         harmonizers|        9.27531104E8|   5|\n",
    "|  13|    aldub3rdebawards|         1.8595976E7|   6|\n",
    "|  13|      memeablemoment|1.2742160666666668E7|   7|\n",
    "|  13|          aprilfools|1.0030552666666668E7|   8|\n",
    "|  13|      jfcshawnmendes|   9252520.666666666|   9|\n",
    "|  14|        iheartawards| 7.183277916857142E9|   1|\n",
    "|  14|         bestfanarmy| 5.907355471714287E9|   2|\n",
    "|  14|             5sosfam|1.4584854168571427E9|   3|\n",
    "|  14|        wrestlemania|2.9820363142857146E8|   4|\n",
    "|  14|         harmonizers|2.9375777371428573E8|   5|\n",
    "|  14|        directioners|1.9487411342857143E8|   6|\n",
    "|  14|         sofantastic| 3.819015571428572E7|   7|\n",
    "|  14|nationalchampionship|3.7476486857142866E7|   8|\n",
    "|  14|     dolceamoresayit|         3.0816227E7|   9|\n",
    "|  15|   aldub9thmonthsary| 8.463613606666669E8|   1|\n",
    "|  15|            mambaday|1.2468111571428573E8|   2|\n",
    "|  15|  dolceamoreiloveyou|1.0015080520000002E8|   3|\n",
    "|  15|           demdebate| 6.480662342857144E7|   4|\n",
    "|  15|         sofantastic| 6.194139885714285E7|   5|\n",
    "|  15|        thankyoukobe|3.3031526857142862E7|   6|\n",
    "|  15|         harmonizers|2.2504020857142862E7|   7|\n",
    "|  15|   aldub39thweeksary|        2.07642592E7|   8|\n",
    "|  15|     aldubsummerlove|        2.05949015E7|   9|\n",
    "|  16|  letsplay1dreamboy2| 4.318556866666666E7|   1|\n",
    "|  16|            lemonade| 4.086382571428571E7|   2|\n",
    "|  16|            earthday|3.8029611428571425E7|   3|\n",
    "|  16|   aldub40thweeksary|        3.45427468E7|   4|\n",
    "|  16|              prince|         3.4445144E7|   5|\n",
    "|  16|pilipinasdebates2016|3.3852825428571425E7|   6|\n",
    "|  16|      aldubgiftofjoy|3.1067077333333325E7|   7|\n",
    "|  16|dolceamorethebigm...|       2.880975475E7|   8|\n",
    "|  16|      aldubacting101|        2.50469215E7|   9|\n",
    "|  17|   dolceamorevenezia|         7.9941618E7|   1|\n",
    "|  17|               views| 6.452821571428571E7|   2|\n",
    "|  17|   aldub41stweeksary| 2.975588719999999E7|   3|\n",
    "|  17|                whcd|         2.5021998E7|   4|\n",
    "|  17|       gameofthrones|         2.0947352E7|   5|\n",
    "|  17|      aldubactoflove|1.9896217333333332E7|   6|\n",
    "|  17|   aldubgettingready|1.7553324833333332E7|   7|\n",
    "|  17|  aldubangpagtatapat|        1.63448912E7|   8|\n",
    "|  17|     aldubhbdbossing|         1.4679638E7|   9|\n",
    "|  18|             metgala| 3.608393877142856E8|   1|\n",
    "|  18|   dolceamorethesong|         6.2369341E7|   2|\n",
    "|  18| 화양연화onstageepilogue| 4.833936333333333E7|   3|\n",
    "|  18|  maythe4thbewithyou|2.5003587714285716E7|   4|\n",
    "|  18|          mothersday|2.4432857428571425E7|   5|\n",
    "|  18|      aldubbonvoyage|2.2385640666666664E7|   6|\n",
    "|  18|   aldub42ndweeksary|         2.1608336E7|   7|\n",
    "|  18|    aldubfinalscript|2.0915212833333332E7|   8|\n",
    "|  18|  aldubtickettoitaly|1.9933257333333332E7|   9|\n",
    "|  19|          teenchoice|1.4985840377142856E9|   1|\n",
    "|  19|          eurovision|2.6509957742857146E8|   2|\n",
    "|  19|dolceamoreitsallc...|      1.0733945675E8|   3|\n",
    "|  19| dolceamoreforgotten|          6.781391E7|   4|\n",
    "|  19| dolceamoremeanttobe| 6.028717319999999E7|   5|\n",
    "|  19|               방탄소년단| 3.573195485714285E7|   6|\n",
    "|  19|                 bts| 3.478692685714286E7|   7|\n",
    "|  19|choicemusicgroupmale|2.6838739333333336E7|   8|\n",
    "|  19|   aldub43rdweeksary|        2.10542772E7|   9|\n",
    "|  20|     1dreamboy2today| 9.333881666666669E7|   1|\n",
    "|  20|  aldub10thmonthsary|4.0754155428571425E7|   2|\n",
    "|  20|   aldub44thweeksary|        2.28811148E7|   3|\n",
    "|  20|  aldubloversinitaly|2.1738495714285716E7|   4|\n",
    "|  20|   aldubhappyinitaly|1.9249258833333332E7|   5|\n",
    "|  20| dolceamorewhitelies|1.6688452833333336E7|   6|\n",
    "|  20|      aldubwemissyou|         1.4809568E7|   7|\n",
    "|  20|     aldubtiamoitaly|         1.4410507E7|   8|\n",
    "|  20|      voicesavelaith|1.1729224666666666E7|   9|\n",
    "|  21|               bbmas| 3.598061197142857E8|   1|\n",
    "|  21| dolceamorepanaginip|         4.4339942E7|   2|\n",
    "|  21|      dolceamoretuko|         3.0670345E7|   3|\n",
    "|  21|            uclfinal| 3.018978742857142E7|   4|\n",
    "|  21|       1dreamboy2now|2.6601552833333336E7|   5|\n",
    "|  21|    aldubtouchoflove| 2.164150685714286E7|   6|\n",
    "|  21|dolceamoresatotoo...|       2.051140475E7|   7|\n",
    "|  21|   aldub45thweeksary|          2.037315E7|   8|\n",
    "|  21|        aldubsoclose|2.0267521333333336E7|   9|\n",
    "|  22|   dolceamorebistado|         2.5340328E7|   1|\n",
    "|  22|    aldubmissinghalf|1.7461188666666668E7|   2|\n",
    "|  22|     aldubhomeatlast|         1.3510819E7|   3|\n",
    "|  22|      aldubbackatone|   9672338.666666668|   4|\n",
    "|  22|         memorialday|           9546990.0|   5|\n",
    "|  22|     memorialday2016|           4911206.0|   6|\n",
    "|  22|                 raw|          2747458.75|   7|\n",
    "|  22|          teenchoice|           2385046.0|   8|\n",
    "|  22|               5h727|          2123164.75|   9|\n",
    "|  23|       mtvawardsstar| 2.808470288333333E8|   1|\n",
    "|  23|        ripchristina|       1.260078125E8|   2|\n",
    "|  23|             orlando| 1.177854708333333E8|   3|\n",
    "|  23|            euro2016|         4.5896674E7|   4|\n",
    "|  23|dolceamoredreamin...|        3.41199572E7|   5|\n",
    "|  23|       dolceamoretlc|         3.3426619E7|   6|\n",
    "|  23|   aldub47thweeksary|        2.00338128E7|   7|\n",
    "|  23|dolceamoreclosetoyou|         1.8993046E7|   8|\n",
    "|  23|       aldubtrumpets|         1.7667704E7|   9|\n",
    "|  24|  aldub11thmonthsary|         1.0705437E8|   1|\n",
    "|  24|             orlando|          6.740826E7|   2|\n",
    "|  24|          loveislove| 4.129454283333334E7|   3|\n",
    "|  24|          tonyawards| 2.533964083333333E7|   4|\n",
    "|  24|          fathersday| 2.053040483333333E7|   5|\n",
    "|  24|              e32016|1.7640861333333332E7|   6|\n",
    "|  24|      aldubthesender|         1.6480344E7|   7|\n",
    "|  24|     aldubforthelove|          1.634729E7|   8|\n",
    "|  24|      alduballmylife|         1.5920202E7|   9|\n",
    "|  25|              brexit| 5.619198574285715E8|   1|\n",
    "|  25|           nbafinals| 2.034930414285714E8|   2|\n",
    "|  25|               euref|1.1304269685714287E8|   3|\n",
    "|  25|       veranomtv2016| 9.154586285714287E7|   4|\n",
    "|  25|       nobillnobreak| 9.102413085714284E7|   5|\n",
    "|  25|        eurefresults|       7.245406475E7|   6|\n",
    "|  25|          teenchoice| 4.428511942857142E7|   7|\n",
    "|  25|      dolceamorehhww|       4.015488875E7|   8|\n",
    "|  25| 1dreamboy2flashback|        3.13236125E7|   9|\n",
    "|  26|       veranomtv2016|3.4067891885714287E8|   1|\n",
    "|  26|           betawards|3.2421500685714275E8|   2|\n",
    "|  26|       gameofthrones| 5.786883971428572E7|   3|\n",
    "|  26|        growingupshy| 4.110965285714285E7|   4|\n",
    "|  26|            euro2016|3.0678978857142862E7|   5|\n",
    "|  26|                 eng| 2.311730685714286E7|   6|\n",
    "|  26|heterosexualprideday|2.2937988799999997E7|   7|\n",
    "|  26|   dolceamorewarning|         2.1789481E7|   8|\n",
    "|  26|   aldubiyamin14days|1.9558076833333332E7|   9|\n",
    "|  27|       veranomtv2016| 6.172811897142859E8|   1|\n",
    "|  27|       altonsterling|       4.353550708E8|   2|\n",
    "|  27|              dallas|3.0474667485714287E8|   3|\n",
    "|  27|          teenchoice|        1.44406374E8|   4|\n",
    "|  27| throwback1dreamboy2|1.0612579466666664E8|   5|\n",
    "|  27|    blacklivesmatter| 9.825445142857142E7|   6|\n",
    "|  27|     philandocastile|         8.6897369E7|   7|\n",
    "|  27|aldubmainecelebra...|4.7500080666666664E7|   8|\n",
    "|  27|            euro2016| 3.652664371428572E7|   9|\n",
    "|  28|          mtvhottest|3.0488708594285717E9|   1|\n",
    "|  28| aldub1stanniversary|      4.1578049275E8|   2|\n",
    "|  28|       veranomtv2016|1.2067342285714284E8|   3|\n",
    "|  28|         prayfornice|         9.3551121E7|   4|\n",
    "|  28|              turkey| 8.518514742857143E7|   5|\n",
    "|  28|aldubimagineyouandme| 5.561218883333333E7|   6|\n",
    "|  28|            euro2016|         2.9229292E7|   7|\n",
    "|  28|                nice|2.7864511428571437E7|   8|\n",
    "|  28|iyamthegrandpremiere|2.3359341333333332E7|   9|\n",
    "|  29|          mtvhottest| 5.754052757142857E8|   1|\n",
    "|  29|            rncincle|2.6088884942857146E8|   2|\n",
    "|  29|          6yearsof1d| 1.102624657142857E8|   3|\n",
    "|  29|       veranomtv2016| 9.774578085714285E7|   4|\n",
    "|  29|kimexposedtaylorp...| 9.451060371428569E7|   5|\n",
    "|  29|          teenchoice| 9.222880542857142E7|   6|\n",
    "|  29|6yearsofonedirection| 6.410710720000001E7|   7|\n",
    "|  29|dolceamorechangedman|         5.4128522E7|   8|\n",
    "|  29|dolceamorefightin...| 5.309390866666666E7|   9|\n",
    "|  30|          mtvhottest|         5.3450441E8|   1|\n",
    "|  30|        demsinphilly| 4.432001374285714E8|   2|\n",
    "|  30|     savemarinajoyce|        2.00240236E8|   3|\n",
    "|  30|       veranomtv2016| 7.138472542857143E7|   4|\n",
    "|  30|dolceamoreconnivance|5.7476010833333336E7|   5|\n",
    "|  30|dolceamorelostand...|       4.581946275E7|   6|\n",
    "|  30|  dolceamoresabotage|       4.321053875E7|   7|\n",
    "|  30| dolceamorepatigasan| 3.897952866666666E7|   8|\n",
    "|  30|    dolceamoreaminan|3.2220744799999993E7|   9|\n",
    "+----+--------------------+--------------------+----+\n",
    "```"
   ]
  },
  {
   "cell_type": "code",
   "execution_count": 59,
   "metadata": {
    "collapsed": true
   },
   "outputs": [],
   "source": [
    "# windows for calculate the variance\n",
    "weekly_window = Window.partitionBy('week','hashtag')\n",
    "\n",
    "# windows for sort by rank\n",
    "weekly_window2 = Window.partitionBy('week').orderBy(functions.desc('variance'))\n",
    "\n",
    "difference =((functions.avg(day_counts['count']).over(weekly_window) - day_counts['count'])**2)\n",
    "weekly_rank = functions.rank().over(weekly_window2).alias('rank')"
   ]
  },
  {
   "cell_type": "markdown",
   "metadata": {},
   "source": [
    "Because there is only one day in week 31, using the method above to calculate the daily standard deviation using a week would get 0. And if you want to see popular hashtags among one week, it is meaningless to get variance from only one day data."
   ]
  },
  {
   "cell_type": "code",
   "execution_count": 66,
   "metadata": {
    "scrolled": false
   },
   "outputs": [
    {
     "name": "stdout",
     "output_type": "stream",
     "text": [
      "+----+--------------------+--------------------+----+\n",
      "|week|             hashtag|            variance|rank|\n",
      "+----+--------------------+--------------------+----+\n",
      "|  13|        iheartawards|1.203149592866666...|   1|\n",
      "|  13|         bestfanarmy|1.137100003266666...|   2|\n",
      "|  13|             5sosfam|1.4885764806666665E9|   3|\n",
      "|  13|        directioners|1.3716957286666665E9|   4|\n",
      "|  13|         harmonizers|        9.27531104E8|   5|\n",
      "|  14|        iheartawards| 7.183277916857142E9|   1|\n",
      "|  14|         bestfanarmy| 5.907355471714287E9|   2|\n",
      "|  14|             5sosfam|1.4584854168571427E9|   3|\n",
      "|  14|        wrestlemania|2.9820363142857146E8|   4|\n",
      "|  14|         harmonizers|2.9375777371428573E8|   5|\n",
      "|  15|   aldub9thmonthsary| 8.463613606666669E8|   1|\n",
      "|  15|            mambaday|1.2468111571428573E8|   2|\n",
      "|  15|  dolceamoreiloveyou|1.0015080520000002E8|   3|\n",
      "|  15|           demdebate| 6.480662342857144E7|   4|\n",
      "|  15|         sofantastic| 6.194139885714285E7|   5|\n",
      "|  16|  letsplay1dreamboy2| 4.318556866666666E7|   1|\n",
      "|  16|            lemonade| 4.086382571428571E7|   2|\n",
      "|  16|            earthday|3.8029611428571425E7|   3|\n",
      "|  16|   aldub40thweeksary|        3.45427468E7|   4|\n",
      "|  16|              prince|         3.4445144E7|   5|\n",
      "|  17|   dolceamorevenezia|         7.9941618E7|   1|\n",
      "|  17|               views| 6.452821571428571E7|   2|\n",
      "|  17|   aldub41stweeksary| 2.975588719999999E7|   3|\n",
      "|  17|                whcd|         2.5021998E7|   4|\n",
      "|  17|       gameofthrones|         2.0947352E7|   5|\n",
      "|  18|             metgala| 3.608393877142856E8|   1|\n",
      "|  18|   dolceamorethesong|         6.2369341E7|   2|\n",
      "|  18| 화양연화onstageepilogue|4.8339363333333336E7|   3|\n",
      "|  18|  maythe4thbewithyou|2.5003587714285716E7|   4|\n",
      "|  18|          mothersday|2.4432857428571425E7|   5|\n",
      "|  19|          teenchoice|1.4985840377142856E9|   1|\n",
      "|  19|          eurovision|2.6509957742857146E8|   2|\n",
      "|  19|dolceamoreitsallc...|      1.0733945675E8|   3|\n",
      "|  19| dolceamoreforgotten|          6.781391E7|   4|\n",
      "|  19| dolceamoremeanttobe| 6.028717319999999E7|   5|\n",
      "|  20|     1dreamboy2today| 9.333881666666669E7|   1|\n",
      "|  20|  aldub10thmonthsary|4.0754155428571425E7|   2|\n",
      "|  20|   aldub44thweeksary|        2.28811148E7|   3|\n",
      "|  20|  aldubloversinitaly|2.1738495714285716E7|   4|\n",
      "|  20|   aldubhappyinitaly|1.9249258833333332E7|   5|\n",
      "|  21|               bbmas| 3.598061197142857E8|   1|\n",
      "|  21| dolceamorepanaginip|         4.4339942E7|   2|\n",
      "|  21|      dolceamoretuko|         3.0670345E7|   3|\n",
      "|  21|            uclfinal| 3.018978742857142E7|   4|\n",
      "|  21|       1dreamboy2now|2.6601552833333336E7|   5|\n",
      "|  22|   dolceamorebistado|         2.5340328E7|   1|\n",
      "|  22|    aldubmissinghalf|1.7461188666666668E7|   2|\n",
      "|  22|     aldubhomeatlast|         1.3510819E7|   3|\n",
      "|  22|      aldubbackatone|   9672338.666666668|   4|\n",
      "|  22|         memorialday|           9546990.0|   5|\n",
      "|  23|       mtvawardsstar| 2.808470288333333E8|   1|\n",
      "|  23|        ripchristina|       1.260078125E8|   2|\n",
      "|  23|             orlando| 1.177854708333333E8|   3|\n",
      "|  23|            euro2016|         4.5896674E7|   4|\n",
      "|  23|dolceamoredreamin...|        3.41199572E7|   5|\n",
      "|  24|  aldub11thmonthsary|         1.0705437E8|   1|\n",
      "|  24|             orlando|          6.740826E7|   2|\n",
      "|  24|          loveislove| 4.129454283333334E7|   3|\n",
      "|  24|          tonyawards| 2.533964083333333E7|   4|\n",
      "|  24|          fathersday| 2.053040483333333E7|   5|\n",
      "|  25|              brexit| 5.619198574285715E8|   1|\n",
      "|  25|           nbafinals| 2.034930414285714E8|   2|\n",
      "|  25|               euref|1.1304269685714287E8|   3|\n",
      "|  25|       veranomtv2016| 9.154586285714287E7|   4|\n",
      "|  25|       nobillnobreak| 9.102413085714284E7|   5|\n",
      "|  26|       veranomtv2016|3.4067891885714287E8|   1|\n",
      "|  26|           betawards|3.2421500685714275E8|   2|\n",
      "|  26|       gameofthrones| 5.786883971428572E7|   3|\n",
      "|  26|        growingupshy| 4.110965285714285E7|   4|\n",
      "|  26|            euro2016|3.0678978857142862E7|   5|\n",
      "|  27|       veranomtv2016| 6.172811897142859E8|   1|\n",
      "|  27|       altonsterling|       4.353550708E8|   2|\n",
      "|  27|              dallas| 3.047466748571429E8|   3|\n",
      "|  27|          teenchoice|        1.44406374E8|   4|\n",
      "|  27| throwback1dreamboy2|1.0612579466666664E8|   5|\n",
      "|  28|          mtvhottest|3.0488708594285717E9|   1|\n",
      "|  28| aldub1stanniversary|      4.1578049275E8|   2|\n",
      "|  28|       veranomtv2016|1.2067342285714284E8|   3|\n",
      "|  28|         prayfornice|         9.3551121E7|   4|\n",
      "|  28|              turkey| 8.518514742857143E7|   5|\n",
      "|  29|          mtvhottest| 5.754052757142857E8|   1|\n",
      "|  29|            rncincle|2.6088884942857146E8|   2|\n",
      "|  29|          6yearsof1d| 1.102624657142857E8|   3|\n",
      "|  29|       veranomtv2016| 9.774578085714285E7|   4|\n",
      "|  29|kimexposedtaylorp...| 9.451060371428569E7|   5|\n",
      "|  30|          mtvhottest|         5.3450441E8|   1|\n",
      "|  30|        demsinphilly| 4.432001374285714E8|   2|\n",
      "|  30|     savemarinajoyce|        2.00240236E8|   3|\n",
      "|  30|       veranomtv2016| 7.138472542857143E7|   4|\n",
      "|  30|dolceamoreconnivance|5.7476010833333336E7|   5|\n",
      "+----+--------------------+--------------------+----+\n",
      "only showing top 90 rows\n",
      "\n"
     ]
    }
   ],
   "source": [
    "day_variance = (day_counts.withColumn('difference',difference)\n",
    "                       .groupBy('week','hashtag').agg(functions.sum(\"difference\").alias('variance'))\n",
    "                       .withColumn('rank',weekly_rank)\n",
    "                       .filter('rank < 6')\n",
    "                # If you don't want to keep the data of week 31. just add a line befor sort\n",
    "                     # .filter('week < 31')\n",
    "                       .sort('week', 'rank'))\n",
    "\n",
    "day_variance.show(90)"
   ]
  },
  {
   "cell_type": "markdown",
   "metadata": {},
   "source": [
    "You should be seeing some weekly lists here that are starting to make sense. Lots of these are related to viral twitter campaigns -- however, you should see the top trending hashtag of week 25 in 2016 to be \"brexit\" (closely followed by \"nbafinals\"). Others in the top ten include \"euref\" and \"eurefresults\". What other newsworthy events can you spot?"
   ]
  },
  {
   "cell_type": "markdown",
   "metadata": {},
   "source": [
    "Except for \"brexit\", \"euref\" and \"eurefresults\", you could notice that \"iheartawards\",\"5sosfam\" appeared in week 13 and 14. The news are followed.       \n",
    "The pop fandoms go to war after Justin Bieber’s Beliebers win iHeartRadio Music Award(\"iheartawards\"). One Direction’s massive fanbase felt they were robbed when the award for Best Fan Army went to Justin Bieber’s followers, called Beliebers. They saw off competition from Directioners(\"directioners\"), Harmonizers(\"harmonizers\") (Fifth Harmony fans) and the 5SOSFam(\"5sosfam\") (5 Seconds Of Summer fans). The groups were furious with the result, and began to slam the ceremony as the iFakeAwards on Twitter. Some even went as far as to accuse the awards of being ‘rigged’ against them, while others were happy that 5SOSFam, Directioners and Harmonizers had put on a united front.\n",
    "\n",
    "\n",
    "Also, there are many hashtags related to \"dolceamore\". Dolce Amore (English: Sweet Love) is a 2016 Philippine romantic drama television series directed by Mae Cruz-Alviar, Cathy Garcia-Molina and Richard Arellano, starring Liza Soberano and Enrique Gil. The series was aired on ABS-CBN's Primetime Bida evening block and worldwide on The Filipino Channel from February 15, 2016, to August 26, 2016, replacing Pangako Sa 'Yo."
   ]
  },
  {
   "cell_type": "markdown",
   "metadata": {},
   "source": [
    "## Plotting the timeseries of hashtag counts \n",
    "\n",
    "### TODO (5 points / 50)\n",
    "\n",
    "These standard deviation lists we obtained above are nice, but lets actually visualize some data. Plot a time series of a few of the more interesting hashtags from the weekly trending list above. Remember that you can filter down the dataframe and then use `toPandas` to bring it to the notebook for plotting."
   ]
  },
  {
   "cell_type": "code",
   "execution_count": 67,
   "metadata": {
    "scrolled": true
   },
   "outputs": [
    {
     "data": {
      "text/html": [
       "<div>\n",
       "<style>\n",
       "    .dataframe thead tr:only-child th {\n",
       "        text-align: right;\n",
       "    }\n",
       "\n",
       "    .dataframe thead th {\n",
       "        text-align: left;\n",
       "    }\n",
       "\n",
       "    .dataframe tbody tr th {\n",
       "        vertical-align: top;\n",
       "    }\n",
       "</style>\n",
       "<table border=\"1\" class=\"dataframe\">\n",
       "  <thead>\n",
       "    <tr style=\"text-align: right;\">\n",
       "      <th></th>\n",
       "      <th>day</th>\n",
       "      <th>hashtag</th>\n",
       "      <th>week</th>\n",
       "      <th>count</th>\n",
       "    </tr>\n",
       "  </thead>\n",
       "  <tbody>\n",
       "    <tr>\n",
       "      <th>0</th>\n",
       "      <td>204</td>\n",
       "      <td>mtvhottest</td>\n",
       "      <td>29</td>\n",
       "      <td>66372</td>\n",
       "    </tr>\n",
       "    <tr>\n",
       "      <th>1</th>\n",
       "      <td>205</td>\n",
       "      <td>mtvhottest</td>\n",
       "      <td>29</td>\n",
       "      <td>63495</td>\n",
       "    </tr>\n",
       "    <tr>\n",
       "      <th>2</th>\n",
       "      <td>207</td>\n",
       "      <td>mtvhottest</td>\n",
       "      <td>30</td>\n",
       "      <td>60768</td>\n",
       "    </tr>\n",
       "    <tr>\n",
       "      <th>3</th>\n",
       "      <td>208</td>\n",
       "      <td>mtvhottest</td>\n",
       "      <td>30</td>\n",
       "      <td>59065</td>\n",
       "    </tr>\n",
       "    <tr>\n",
       "      <th>4</th>\n",
       "      <td>199</td>\n",
       "      <td>mtvhottest</td>\n",
       "      <td>28</td>\n",
       "      <td>57956</td>\n",
       "    </tr>\n",
       "    <tr>\n",
       "      <th>5</th>\n",
       "      <td>94</td>\n",
       "      <td>harmonizers</td>\n",
       "      <td>13</td>\n",
       "      <td>54842</td>\n",
       "    </tr>\n",
       "    <tr>\n",
       "      <th>6</th>\n",
       "      <td>206</td>\n",
       "      <td>mtvhottest</td>\n",
       "      <td>29</td>\n",
       "      <td>54734</td>\n",
       "    </tr>\n",
       "    <tr>\n",
       "      <th>7</th>\n",
       "      <td>93</td>\n",
       "      <td>harmonizers</td>\n",
       "      <td>13</td>\n",
       "      <td>50782</td>\n",
       "    </tr>\n",
       "    <tr>\n",
       "      <th>8</th>\n",
       "      <td>211</td>\n",
       "      <td>mtvhottest</td>\n",
       "      <td>30</td>\n",
       "      <td>47848</td>\n",
       "    </tr>\n",
       "    <tr>\n",
       "      <th>9</th>\n",
       "      <td>203</td>\n",
       "      <td>mtvhottest</td>\n",
       "      <td>29</td>\n",
       "      <td>47696</td>\n",
       "    </tr>\n",
       "    <tr>\n",
       "      <th>10</th>\n",
       "      <td>202</td>\n",
       "      <td>mtvhottest</td>\n",
       "      <td>29</td>\n",
       "      <td>47567</td>\n",
       "    </tr>\n",
       "    <tr>\n",
       "      <th>11</th>\n",
       "      <td>213</td>\n",
       "      <td>mtvhottest</td>\n",
       "      <td>30</td>\n",
       "      <td>47248</td>\n",
       "    </tr>\n",
       "    <tr>\n",
       "      <th>12</th>\n",
       "      <td>136</td>\n",
       "      <td>teenchoice</td>\n",
       "      <td>19</td>\n",
       "      <td>44716</td>\n",
       "    </tr>\n",
       "    <tr>\n",
       "      <th>13</th>\n",
       "      <td>210</td>\n",
       "      <td>mtvhottest</td>\n",
       "      <td>30</td>\n",
       "      <td>44324</td>\n",
       "    </tr>\n",
       "    <tr>\n",
       "      <th>14</th>\n",
       "      <td>200</td>\n",
       "      <td>mtvhottest</td>\n",
       "      <td>29</td>\n",
       "      <td>43344</td>\n",
       "    </tr>\n",
       "    <tr>\n",
       "      <th>15</th>\n",
       "      <td>209</td>\n",
       "      <td>mtvhottest</td>\n",
       "      <td>30</td>\n",
       "      <td>42572</td>\n",
       "    </tr>\n",
       "    <tr>\n",
       "      <th>16</th>\n",
       "      <td>201</td>\n",
       "      <td>mtvhottest</td>\n",
       "      <td>29</td>\n",
       "      <td>41222</td>\n",
       "    </tr>\n",
       "    <tr>\n",
       "      <th>17</th>\n",
       "      <td>107</td>\n",
       "      <td>aldub9thmonthsary</td>\n",
       "      <td>15</td>\n",
       "      <td>39434</td>\n",
       "    </tr>\n",
       "    <tr>\n",
       "      <th>18</th>\n",
       "      <td>212</td>\n",
       "      <td>mtvhottest</td>\n",
       "      <td>30</td>\n",
       "      <td>33664</td>\n",
       "    </tr>\n",
       "    <tr>\n",
       "      <th>19</th>\n",
       "      <td>132</td>\n",
       "      <td>teenchoice</td>\n",
       "      <td>19</td>\n",
       "      <td>28542</td>\n",
       "    </tr>\n",
       "    <tr>\n",
       "      <th>20</th>\n",
       "      <td>176</td>\n",
       "      <td>brexit</td>\n",
       "      <td>25</td>\n",
       "      <td>28481</td>\n",
       "    </tr>\n",
       "    <tr>\n",
       "      <th>21</th>\n",
       "      <td>198</td>\n",
       "      <td>mtvhottest</td>\n",
       "      <td>28</td>\n",
       "      <td>27327</td>\n",
       "    </tr>\n",
       "    <tr>\n",
       "      <th>22</th>\n",
       "      <td>198</td>\n",
       "      <td>aldub1stanniversary</td>\n",
       "      <td>28</td>\n",
       "      <td>25203</td>\n",
       "    </tr>\n",
       "    <tr>\n",
       "      <th>23</th>\n",
       "      <td>133</td>\n",
       "      <td>teenchoice</td>\n",
       "      <td>19</td>\n",
       "      <td>24781</td>\n",
       "    </tr>\n",
       "    <tr>\n",
       "      <th>24</th>\n",
       "      <td>135</td>\n",
       "      <td>teenchoice</td>\n",
       "      <td>19</td>\n",
       "      <td>22505</td>\n",
       "    </tr>\n",
       "    <tr>\n",
       "      <th>25</th>\n",
       "      <td>95</td>\n",
       "      <td>harmonizers</td>\n",
       "      <td>14</td>\n",
       "      <td>20245</td>\n",
       "    </tr>\n",
       "    <tr>\n",
       "      <th>26</th>\n",
       "      <td>134</td>\n",
       "      <td>teenchoice</td>\n",
       "      <td>19</td>\n",
       "      <td>19569</td>\n",
       "    </tr>\n",
       "    <tr>\n",
       "      <th>27</th>\n",
       "      <td>92</td>\n",
       "      <td>harmonizers</td>\n",
       "      <td>13</td>\n",
       "      <td>15678</td>\n",
       "    </tr>\n",
       "    <tr>\n",
       "      <th>28</th>\n",
       "      <td>214</td>\n",
       "      <td>mtvhottest</td>\n",
       "      <td>31</td>\n",
       "      <td>14062</td>\n",
       "    </tr>\n",
       "    <tr>\n",
       "      <th>29</th>\n",
       "      <td>134</td>\n",
       "      <td>dolceamoreitsallcomingback</td>\n",
       "      <td>19</td>\n",
       "      <td>12684</td>\n",
       "    </tr>\n",
       "    <tr>\n",
       "      <th>...</th>\n",
       "      <td>...</td>\n",
       "      <td>...</td>\n",
       "      <td>...</td>\n",
       "      <td>...</td>\n",
       "    </tr>\n",
       "    <tr>\n",
       "      <th>7870</th>\n",
       "      <td>202</td>\n",
       "      <td>dolceamoreblackmail</td>\n",
       "      <td>29</td>\n",
       "      <td>1</td>\n",
       "    </tr>\n",
       "    <tr>\n",
       "      <th>7871</th>\n",
       "      <td>208</td>\n",
       "      <td>orlandoflorida</td>\n",
       "      <td>30</td>\n",
       "      <td>1</td>\n",
       "    </tr>\n",
       "    <tr>\n",
       "      <th>7872</th>\n",
       "      <td>212</td>\n",
       "      <td>teenchoicefox</td>\n",
       "      <td>30</td>\n",
       "      <td>1</td>\n",
       "    </tr>\n",
       "    <tr>\n",
       "      <th>7873</th>\n",
       "      <td>167</td>\n",
       "      <td>dolceamoredtouryorkshire</td>\n",
       "      <td>24</td>\n",
       "      <td>1</td>\n",
       "    </tr>\n",
       "    <tr>\n",
       "      <th>7874</th>\n",
       "      <td>167</td>\n",
       "      <td>orlandohairstylist</td>\n",
       "      <td>24</td>\n",
       "      <td>1</td>\n",
       "    </tr>\n",
       "    <tr>\n",
       "      <th>7875</th>\n",
       "      <td>200</td>\n",
       "      <td>orlandobloom</td>\n",
       "      <td>29</td>\n",
       "      <td>1</td>\n",
       "    </tr>\n",
       "    <tr>\n",
       "      <th>7876</th>\n",
       "      <td>173</td>\n",
       "      <td>orlandonutrition</td>\n",
       "      <td>25</td>\n",
       "      <td>1</td>\n",
       "    </tr>\n",
       "    <tr>\n",
       "      <th>7877</th>\n",
       "      <td>150</td>\n",
       "      <td>hindialdub</td>\n",
       "      <td>21</td>\n",
       "      <td>1</td>\n",
       "    </tr>\n",
       "    <tr>\n",
       "      <th>7878</th>\n",
       "      <td>129</td>\n",
       "      <td>aldubitalyday1</td>\n",
       "      <td>18</td>\n",
       "      <td>1</td>\n",
       "    </tr>\n",
       "    <tr>\n",
       "      <th>7879</th>\n",
       "      <td>181</td>\n",
       "      <td>orlandofl</td>\n",
       "      <td>26</td>\n",
       "      <td>1</td>\n",
       "    </tr>\n",
       "    <tr>\n",
       "      <th>7880</th>\n",
       "      <td>198</td>\n",
       "      <td>aldub1stanniver</td>\n",
       "      <td>28</td>\n",
       "      <td>1</td>\n",
       "    </tr>\n",
       "    <tr>\n",
       "      <th>7881</th>\n",
       "      <td>192</td>\n",
       "      <td>teenchoiceawars</td>\n",
       "      <td>27</td>\n",
       "      <td>1</td>\n",
       "    </tr>\n",
       "    <tr>\n",
       "      <th>7882</th>\n",
       "      <td>190</td>\n",
       "      <td>aldubiyamin5day</td>\n",
       "      <td>27</td>\n",
       "      <td>1</td>\n",
       "    </tr>\n",
       "    <tr>\n",
       "      <th>7883</th>\n",
       "      <td>135</td>\n",
       "      <td>dolceamoreonecallaway</td>\n",
       "      <td>19</td>\n",
       "      <td>1</td>\n",
       "    </tr>\n",
       "    <tr>\n",
       "      <th>7884</th>\n",
       "      <td>177</td>\n",
       "      <td>brexitbw</td>\n",
       "      <td>25</td>\n",
       "      <td>1</td>\n",
       "    </tr>\n",
       "    <tr>\n",
       "      <th>7885</th>\n",
       "      <td>175</td>\n",
       "      <td>brexitreferendum</td>\n",
       "      <td>25</td>\n",
       "      <td>1</td>\n",
       "    </tr>\n",
       "    <tr>\n",
       "      <th>7886</th>\n",
       "      <td>96</td>\n",
       "      <td>aldubtheproposition</td>\n",
       "      <td>14</td>\n",
       "      <td>1</td>\n",
       "    </tr>\n",
       "    <tr>\n",
       "      <th>7887</th>\n",
       "      <td>98</td>\n",
       "      <td>aldubebtamangpanahon</td>\n",
       "      <td>14</td>\n",
       "      <td>1</td>\n",
       "    </tr>\n",
       "    <tr>\n",
       "      <th>7888</th>\n",
       "      <td>99</td>\n",
       "      <td>aldub38thweeksa</td>\n",
       "      <td>14</td>\n",
       "      <td>1</td>\n",
       "    </tr>\n",
       "    <tr>\n",
       "      <th>7889</th>\n",
       "      <td>151</td>\n",
       "      <td>dolceamoredworldtour</td>\n",
       "      <td>22</td>\n",
       "      <td>1</td>\n",
       "    </tr>\n",
       "    <tr>\n",
       "      <th>7890</th>\n",
       "      <td>161</td>\n",
       "      <td>aldub47thweeksar</td>\n",
       "      <td>23</td>\n",
       "      <td>1</td>\n",
       "    </tr>\n",
       "    <tr>\n",
       "      <th>7891</th>\n",
       "      <td>94</td>\n",
       "      <td>brexitutopia</td>\n",
       "      <td>13</td>\n",
       "      <td>1</td>\n",
       "    </tr>\n",
       "    <tr>\n",
       "      <th>7892</th>\n",
       "      <td>208</td>\n",
       "      <td>aldubiyambukasna</td>\n",
       "      <td>30</td>\n",
       "      <td>1</td>\n",
       "    </tr>\n",
       "    <tr>\n",
       "      <th>7893</th>\n",
       "      <td>165</td>\n",
       "      <td>orlandoshoot</td>\n",
       "      <td>24</td>\n",
       "      <td>1</td>\n",
       "    </tr>\n",
       "    <tr>\n",
       "      <th>7894</th>\n",
       "      <td>116</td>\n",
       "      <td>orlandojobs</td>\n",
       "      <td>17</td>\n",
       "      <td>1</td>\n",
       "    </tr>\n",
       "    <tr>\n",
       "      <th>7895</th>\n",
       "      <td>147</td>\n",
       "      <td>aldub46thweeksary</td>\n",
       "      <td>21</td>\n",
       "      <td>1</td>\n",
       "    </tr>\n",
       "    <tr>\n",
       "      <th>7896</th>\n",
       "      <td>193</td>\n",
       "      <td>orlandopulse</td>\n",
       "      <td>28</td>\n",
       "      <td>1</td>\n",
       "    </tr>\n",
       "    <tr>\n",
       "      <th>7897</th>\n",
       "      <td>139</td>\n",
       "      <td>dolceamorewhitelies3</td>\n",
       "      <td>20</td>\n",
       "      <td>1</td>\n",
       "    </tr>\n",
       "    <tr>\n",
       "      <th>7898</th>\n",
       "      <td>108</td>\n",
       "      <td>brexitreferendum</td>\n",
       "      <td>15</td>\n",
       "      <td>1</td>\n",
       "    </tr>\n",
       "    <tr>\n",
       "      <th>7899</th>\n",
       "      <td>107</td>\n",
       "      <td>aldubm</td>\n",
       "      <td>15</td>\n",
       "      <td>1</td>\n",
       "    </tr>\n",
       "  </tbody>\n",
       "</table>\n",
       "<p>7900 rows × 4 columns</p>\n",
       "</div>"
      ],
      "text/plain": [
       "      day                     hashtag  week  count\n",
       "0     204                  mtvhottest    29  66372\n",
       "1     205                  mtvhottest    29  63495\n",
       "2     207                  mtvhottest    30  60768\n",
       "3     208                  mtvhottest    30  59065\n",
       "4     199                  mtvhottest    28  57956\n",
       "5      94                 harmonizers    13  54842\n",
       "6     206                  mtvhottest    29  54734\n",
       "7      93                 harmonizers    13  50782\n",
       "8     211                  mtvhottest    30  47848\n",
       "9     203                  mtvhottest    29  47696\n",
       "10    202                  mtvhottest    29  47567\n",
       "11    213                  mtvhottest    30  47248\n",
       "12    136                  teenchoice    19  44716\n",
       "13    210                  mtvhottest    30  44324\n",
       "14    200                  mtvhottest    29  43344\n",
       "15    209                  mtvhottest    30  42572\n",
       "16    201                  mtvhottest    29  41222\n",
       "17    107           aldub9thmonthsary    15  39434\n",
       "18    212                  mtvhottest    30  33664\n",
       "19    132                  teenchoice    19  28542\n",
       "20    176                      brexit    25  28481\n",
       "21    198                  mtvhottest    28  27327\n",
       "22    198         aldub1stanniversary    28  25203\n",
       "23    133                  teenchoice    19  24781\n",
       "24    135                  teenchoice    19  22505\n",
       "25     95                 harmonizers    14  20245\n",
       "26    134                  teenchoice    19  19569\n",
       "27     92                 harmonizers    13  15678\n",
       "28    214                  mtvhottest    31  14062\n",
       "29    134  dolceamoreitsallcomingback    19  12684\n",
       "...   ...                         ...   ...    ...\n",
       "7870  202         dolceamoreblackmail    29      1\n",
       "7871  208              orlandoflorida    30      1\n",
       "7872  212               teenchoicefox    30      1\n",
       "7873  167    dolceamoredtouryorkshire    24      1\n",
       "7874  167          orlandohairstylist    24      1\n",
       "7875  200                orlandobloom    29      1\n",
       "7876  173            orlandonutrition    25      1\n",
       "7877  150                  hindialdub    21      1\n",
       "7878  129              aldubitalyday1    18      1\n",
       "7879  181                   orlandofl    26      1\n",
       "7880  198             aldub1stanniver    28      1\n",
       "7881  192             teenchoiceawars    27      1\n",
       "7882  190             aldubiyamin5day    27      1\n",
       "7883  135       dolceamoreonecallaway    19      1\n",
       "7884  177                    brexitbw    25      1\n",
       "7885  175            brexitreferendum    25      1\n",
       "7886   96         aldubtheproposition    14      1\n",
       "7887   98        aldubebtamangpanahon    14      1\n",
       "7888   99             aldub38thweeksa    14      1\n",
       "7889  151        dolceamoredworldtour    22      1\n",
       "7890  161            aldub47thweeksar    23      1\n",
       "7891   94                brexitutopia    13      1\n",
       "7892  208            aldubiyambukasna    30      1\n",
       "7893  165                orlandoshoot    24      1\n",
       "7894  116                 orlandojobs    17      1\n",
       "7895  147           aldub46thweeksary    21      1\n",
       "7896  193                orlandopulse    28      1\n",
       "7897  139        dolceamorewhitelies3    20      1\n",
       "7898  108            brexitreferendum    15      1\n",
       "7899  107                      aldubm    15      1\n",
       "\n",
       "[7900 rows x 4 columns]"
      ]
     },
     "execution_count": 67,
     "metadata": {},
     "output_type": "execute_result"
    }
   ],
   "source": [
    "few_hashtags = day_counts.filter(day_counts.hashtag.contains(\"dolceamore\")\\\n",
    "                                   | day_counts.hashtag.contains(\"aldub\")\\\n",
    "                                    | day_counts.hashtag.like(\"brexit%\")\\\n",
    "                                    | day_counts.hashtag.like(\"orlando%\")\\\n",
    "                                    | day_counts.hashtag.like(\"teenchoice%\")\\\n",
    "                                    | day_counts.hashtag.like(\"mtvhottest%\")\\\n",
    "                                    | day_counts.hashtag.like(\"harmonizers%\")).toPandas()\n",
    "                                    \n",
    "few_hashtags"
   ]
  },
  {
   "cell_type": "code",
   "execution_count": 68,
   "metadata": {
    "scrolled": false
   },
   "outputs": [
    {
     "data": {
      "image/png": "[encoded data removed]",
      "text/plain": [
       "<matplotlib.figure.Figure at 0x7f49d0296dd8>"
      ]
     },
     "metadata": {},
     "output_type": "display_data"
    }
   ],
   "source": [
    "hashtags = ['dolceamore','aldub','brexit','orlando','teenchoice','mtvhottest','harmonizers']\n",
    "for i,j in enumerate(hashtags):\n",
    "    df = (few_hashtags[few_hashtags['hashtag'].str.contains(j)][['week','count']].groupby(['week']).sum())\n",
    "    plt.plot(df,label = j)\n",
    "\n",
    "plt.title(\"Weekly trending of hashtag counts\",fontsize = 12)\n",
    "plt.xlabel(\"Week from 2016\")\n",
    "plt.ylabel(\"Counts of hashtags\")\n",
    "plt.legend()\n",
    "plt.show()"
   ]
  },
  {
   "cell_type": "markdown",
   "metadata": {},
   "source": [
    "You can see that teenchoice peaked around week 18-19 when it was time for voting for teenchoice.  \n",
    "\n",
    "Brexit get largest counts at week 25. which is about 23 June 2016 when 51.9% of the participating UK electorate voted to leave the EU, out of a turnout of 72.2%. \n",
    "\n",
    "Also, MTV Hottest Summer Superstar voting time wa around July 2016. It is understandable to see a large number of counts at week 30 of MTVHottest."
   ]
  },
  {
   "cell_type": "markdown",
   "metadata": {},
   "source": [
    "### TODO: Use KMeans to cluster hashtags based on the daily count timeseries (10 points / 50)\n",
    "\n",
    "Hint: \n",
    "\n",
    "1. start from the `daily_hashtag` dataframe you made earlier and use the `pivot` method of `GroupedData` to create a matrix of hashtags as rows and daily counts as columns. \n",
    "2. Use the `VectorAssembler` from the ML library to create the feature vector which will consist of daily counts. \n",
    "\n",
    "Train the model and calculate the cluster membership for all hashtags. Show the cluster that includes \"brexit\".\n",
    "\n",
    "This last part is deliberately under-documented - be creative and see if you can get the clustering to give you meaningful hashtag groupings."
   ]
  },
  {
   "cell_type": "code",
   "execution_count": 69,
   "metadata": {
    "collapsed": true
   },
   "outputs": [],
   "source": [
    "from functools import reduce\n",
    "from operator import add\n",
    "from pyspark.sql.functions import lit, col"
   ]
  },
  {
   "cell_type": "markdown",
   "metadata": {},
   "source": [
    "---\n",
    "### Get interesting hashtags from day_counts\n",
    "We just filter the intereted hashtags whose daily count used to be greater than 3000."
   ]
  },
  {
   "cell_type": "code",
   "execution_count": 70,
   "metadata": {
    "collapsed": true
   },
   "outputs": [],
   "source": [
    "filtered_hashtag = day_counts.select('hashtag').filter(day_counts['count']>3000).distinct()\n",
    "hashtags = [i.hashtag for i in filtered_hashtag.select('hashtag').collect()]"
   ]
  },
  {
   "cell_type": "markdown",
   "metadata": {},
   "source": [
    "After acquiring the hashtag list, there exists only 325 distinct hashtags in our list."
   ]
  },
  {
   "cell_type": "code",
   "execution_count": 71,
   "metadata": {},
   "outputs": [
    {
     "data": {
      "text/plain": [
       "325"
      ]
     },
     "execution_count": 71,
     "metadata": {},
     "output_type": "execute_result"
    }
   ],
   "source": [
    "len(hashtags)"
   ]
  },
  {
   "cell_type": "code",
   "execution_count": 72,
   "metadata": {
    "collapsed": true
   },
   "outputs": [],
   "source": [
    "from pyspark.ml.linalg import Vectors\n",
    "from pyspark.ml.feature import VectorAssembler\n",
    "from pyspark.ml.clustering import KMeans"
   ]
  },
  {
   "cell_type": "code",
   "execution_count": 73,
   "metadata": {
    "collapsed": true
   },
   "outputs": [],
   "source": [
    "daily = daily_hashtag.filter(daily_hashtag['hashtag'].isin(hashtags))\\\n",
    "                     .groupBy('hashtag').pivot('day').count().na.fill(0)\n",
    "\n",
    "    \n",
    "assembler = VectorAssembler(\n",
    "    inputCols=daily.columns[1:],\n",
    "    outputCol=\"features\")\n",
    "output = assembler.transform(daily)"
   ]
  },
  {
   "cell_type": "markdown",
   "metadata": {},
   "source": [
    "Because there is around 15 week in our dataset, considering some other clusters. I thought k = 20 might be a good choice."
   ]
  },
  {
   "cell_type": "code",
   "execution_count": 74,
   "metadata": {
    "collapsed": true
   },
   "outputs": [],
   "source": [
    "model = KMeans(k=20,seed =1).fit(output.select('features'))\n",
    "results = model.transform(output)"
   ]
  },
  {
   "cell_type": "code",
   "execution_count": 108,
   "metadata": {},
   "outputs": [
    {
     "name": "stdout",
     "output_type": "stream",
     "text": [
      "+-------+----------+\n",
      "|hashtag|prediction|\n",
      "+-------+----------+\n",
      "| brexit|         6|\n",
      "+-------+----------+\n",
      "\n"
     ]
    }
   ],
   "source": [
    "results.select('hashtag','prediction').filter(results.hashtag=='brexit').show()"
   ]
  },
  {
   "cell_type": "markdown",
   "metadata": {},
   "source": [
    "Get the cluster of brexit whose prediction is 6. Luckily, euref, eurefresults and brexit clueter together."
   ]
  },
  {
   "cell_type": "code",
   "execution_count": 109,
   "metadata": {
    "scrolled": false
   },
   "outputs": [
    {
     "name": "stdout",
     "output_type": "stream",
     "text": [
      "+--------------+----------+\n",
      "|       hashtag|prediction|\n",
      "+--------------+----------+\n",
      "|         euref|         6|\n",
      "|  eurefresults|         6|\n",
      "|        brexit|         6|\n",
      "|dolceamorehhww|         6|\n",
      "+--------------+----------+\n",
      "\n"
     ]
    }
   ],
   "source": [
    "cluster = results.select('hashtag','prediction').filter(results.prediction==6)\n",
    "cluster.show(100)"
   ]
  },
  {
   "cell_type": "markdown",
   "metadata": {},
   "source": [
    "##### Prediction 0\n",
    "And also orlando clusters with pary for orlando."
   ]
  },
  {
   "cell_type": "code",
   "execution_count": 110,
   "metadata": {},
   "outputs": [
    {
     "name": "stdout",
     "output_type": "stream",
     "text": [
      "+--------------+----------+\n",
      "|       hashtag|prediction|\n",
      "+--------------+----------+\n",
      "|       orlando|         0|\n",
      "|prayfororlando|         0|\n",
      "|    loveislove|         0|\n",
      "+--------------+----------+\n",
      "\n"
     ]
    }
   ],
   "source": [
    "results.select('hashtag','prediction').filter(results.prediction==0).show()"
   ]
  },
  {
   "cell_type": "markdown",
   "metadata": {},
   "source": [
    "##### Prediction 2 and 7\n",
    "These clusters contains three fans $harmonizers$, $directioners$ and $5sosfam$ who go to war after Justin Bieber’s Beliebers win iHeartRadio Music Award(\"iheartawards\"). So after $iheartawards$, three $bestfanarmy$ fight for their idols. \n",
    "\n",
    "\n",
    "One Direction’s massive fanbase felt they were robbed when the award for Best Fan Army went to Justin Bieber’s followers, called Beliebers. They saw off competition from Directioners(\"directioners\"), Harmonizers(\"harmonizers\") (Fifth Harmony fans) and the 5SOSFam(\"5sosfam\") (5 Seconds Of Summer fans)."
   ]
  },
  {
   "cell_type": "code",
   "execution_count": 112,
   "metadata": {
    "scrolled": true
   },
   "outputs": [
    {
     "name": "stdout",
     "output_type": "stream",
     "text": [
      "+------------+----------+\n",
      "|     hashtag|prediction|\n",
      "+------------+----------+\n",
      "| bestfanarmy|         2|\n",
      "|iheartawards|         2|\n",
      "+------------+----------+\n",
      "\n"
     ]
    }
   ],
   "source": [
    "results.select('hashtag','prediction').filter(results.prediction==2).show()"
   ]
  },
  {
   "cell_type": "code",
   "execution_count": 117,
   "metadata": {},
   "outputs": [
    {
     "name": "stdout",
     "output_type": "stream",
     "text": [
      "+------------+----------+\n",
      "|     hashtag|prediction|\n",
      "+------------+----------+\n",
      "| harmonizers|         7|\n",
      "|directioners|         7|\n",
      "+------------+----------+\n",
      "\n"
     ]
    }
   ],
   "source": [
    "results.select('hashtag','prediction').filter(results.prediction==7).show()"
   ]
  },
  {
   "cell_type": "markdown",
   "metadata": {},
   "source": [
    "##### Prediction 4\n",
    "DemsInPhilly Night One: National Security By The Numbers. The 2016 Democratic National Convention (the end of Jul, 2016) was held Monday through Thursday at Philadelphia’s Wells Fargo Center. \n",
    "\n",
    "\n",
    "LizQuen lead 2016 PUSH Awards. Liza Soberano and Enrique first got paired in the 2014 TV series Forevermore. Since then, their love team clicked and their fans call them \"LizQuen.\" \n",
    "Vote for Push Awards 2016 was happened at the beginning of Aug 2016.\n",
    "\n",
    "\n",
    "Because the time of these two things are close, they all got many menmetions. In that way, it is easier to be clustered into one cluster."
   ]
  },
  {
   "cell_type": "code",
   "execution_count": 114,
   "metadata": {},
   "outputs": [
    {
     "name": "stdout",
     "output_type": "stream",
     "text": [
      "+-------------------+----------+\n",
      "|            hashtag|prediction|\n",
      "+-------------------+----------+\n",
      "|pushawardskathniels|         4|\n",
      "|           dncinphl|         4|\n",
      "|       demsinphilly|         4|\n",
      "| pushawardslizquens|         4|\n",
      "+-------------------+----------+\n",
      "\n"
     ]
    }
   ],
   "source": [
    "results.select('hashtag','prediction').filter(results.prediction==4).show()"
   ]
  },
  {
   "cell_type": "markdown",
   "metadata": {},
   "source": [
    "---\n",
    "##### K=30\n",
    "We also try k=30 in order to get more meaningful cluster and push them not to be clustered in one big cluster."
   ]
  },
  {
   "cell_type": "markdown",
   "metadata": {},
   "source": [
    "Get the cluster of brexit whose prediction is 16. Perfectly, euref, eurefresults and brexit clueter together."
   ]
  },
  {
   "cell_type": "code",
   "execution_count": 144,
   "metadata": {},
   "outputs": [
    {
     "name": "stdout",
     "output_type": "stream",
     "text": [
      "+-------+----------+\n",
      "|hashtag|prediction|\n",
      "+-------+----------+\n",
      "| brexit|        16|\n",
      "+-------+----------+\n",
      "\n"
     ]
    }
   ],
   "source": [
    "model2 = KMeans(k=30,seed =1).fit(output.select('features'))\n",
    "results2 = model2.transform(output)\n",
    "results2.select('hashtag','prediction').filter(results2.hashtag=='brexit').show()"
   ]
  },
  {
   "cell_type": "code",
   "execution_count": 145,
   "metadata": {},
   "outputs": [
    {
     "name": "stdout",
     "output_type": "stream",
     "text": [
      "+------------+----------+\n",
      "|     hashtag|prediction|\n",
      "+------------+----------+\n",
      "|       euref|        16|\n",
      "|    euro2016|        16|\n",
      "|eurefresults|        16|\n",
      "|      brexit|        16|\n",
      "+------------+----------+\n",
      "\n"
     ]
    }
   ],
   "source": [
    "cluster2 = results2.select('hashtag','prediction').filter(results2.prediction==16)\n",
    "cluster2.show(100)"
   ]
  },
  {
   "cell_type": "markdown",
   "metadata": {},
   "source": [
    "Also, this cluster are all tv series."
   ]
  },
  {
   "cell_type": "code",
   "execution_count": 146,
   "metadata": {},
   "outputs": [
    {
     "name": "stdout",
     "output_type": "stream",
     "text": [
      "+------------------+----------+\n",
      "|           hashtag|prediction|\n",
      "+------------------+----------+\n",
      "|dolceamorethisisit|         0|\n",
      "| aldub46thweeksary|         0|\n",
      "|    aldubbackatone|         0|\n",
      "| dolceamorebistado|         0|\n",
      "+------------------+----------+\n",
      "\n"
     ]
    }
   ],
   "source": [
    "results2.select('hashtag','prediction').filter(results2.prediction==0).show()"
   ]
  },
  {
   "cell_type": "markdown",
   "metadata": {},
   "source": [
    "See from the time series plot, we know that mtvhottest peaked at week 30. Compared to other hashtags, it has the largest number of count."
   ]
  },
  {
   "cell_type": "code",
   "execution_count": 147,
   "metadata": {},
   "outputs": [
    {
     "name": "stdout",
     "output_type": "stream",
     "text": [
      "+----------+----------+\n",
      "|   hashtag|prediction|\n",
      "+----------+----------+\n",
      "|mtvhottest|         1|\n",
      "+----------+----------+\n",
      "\n"
     ]
    }
   ],
   "source": [
    "results2.select('hashtag','prediction').filter(results2.prediction==1).show()"
   ]
  },
  {
   "cell_type": "markdown",
   "metadata": {},
   "source": [
    "These clusters contains three fans  harmonizersharmonizers ,  directionersdirectioners  and  5sosfam5sosfam  who go to war after Justin Bieber’s Beliebers win iHeartRadio Music Award(\"iheartawards\"). So after  iheartawardsiheartawards , three  bestfanarmybestfanarmy  fight for their idols."
   ]
  },
  {
   "cell_type": "code",
   "execution_count": 148,
   "metadata": {},
   "outputs": [
    {
     "name": "stdout",
     "output_type": "stream",
     "text": [
      "+------------+----------+\n",
      "|     hashtag|prediction|\n",
      "+------------+----------+\n",
      "| bestfanarmy|         2|\n",
      "|iheartawards|         2|\n",
      "+------------+----------+\n",
      "\n"
     ]
    }
   ],
   "source": [
    "results2.select('hashtag','prediction').filter(results2.prediction==2).show()"
   ]
  },
  {
   "cell_type": "markdown",
   "metadata": {},
   "source": [
    "\n",
    "All three tags are related to 2016 Radio Disney Music Awards.\n",
    "Fifth Harmony are feeling the blues as they arrive at the 2016 Radio Disney Music Awards held at the Microsoft Theater on Saturday (April 30) in Los Angeles. Fifth Harmony are up for You Know You Love Them - Best Music Group, and their fans for So Fantastic - Fiercest Fans.\n",
    "FifthHarmony won #YouKnowYouLoveThem and #Harmonizers won #SoFantastic."
   ]
  },
  {
   "cell_type": "code",
   "execution_count": 159,
   "metadata": {
    "scrolled": true
   },
   "outputs": [
    {
     "name": "stdout",
     "output_type": "stream",
     "text": [
      "+------------------+----------+\n",
      "|           hashtag|prediction|\n",
      "+------------------+----------+\n",
      "|       sofantastic|        13|\n",
      "|             bbmas|        13|\n",
      "|      onedirection|        13|\n",
      "|youknowyoulovethem|        13|\n",
      "+------------------+----------+\n",
      "\n"
     ]
    }
   ],
   "source": [
    "results2.select('hashtag','prediction').filter(results2.prediction==13).show()"
   ]
  },
  {
   "cell_type": "markdown",
   "metadata": {},
   "source": [
    "Bangtan Boys 방탄소년단 is a group who won Best Group of 2016 in PopCrush Fan Choice Awards."
   ]
  },
  {
   "cell_type": "code",
   "execution_count": 162,
   "metadata": {},
   "outputs": [
    {
     "name": "stdout",
     "output_type": "stream",
     "text": [
      "+--------------------+----------+\n",
      "|             hashtag|prediction|\n",
      "+--------------------+----------+\n",
      "|        choicefandom|        17|\n",
      "|          eurovision|        17|\n",
      "|choicemusicgroupmale|        17|\n",
      "|dolceamoreitsallc...|        17|\n",
      "|               방탄소년단|        17|\n",
      "|                 bts|        17|\n",
      "+--------------------+----------+\n",
      "\n"
     ]
    }
   ],
   "source": [
    "results2.select('hashtag','prediction').filter(results2.prediction==17).show()"
   ]
  },
  {
   "cell_type": "markdown",
   "metadata": {},
   "source": [
    "#ripchristina% clustered together. Also #loveislove always clustered with #prayfororlando"
   ]
  },
  {
   "cell_type": "code",
   "execution_count": 169,
   "metadata": {},
   "outputs": [
    {
     "name": "stdout",
     "output_type": "stream",
     "text": [
      "+-------------------+----------+\n",
      "|            hashtag|prediction|\n",
      "+-------------------+----------+\n",
      "|       ripchristina|        24|\n",
      "|ripchristinagrimmie|        24|\n",
      "|                eng|        24|\n",
      "|   prayforchristina|        24|\n",
      "|    aldubebtrumpets|        24|\n",
      "|     prayfororlando|        24|\n",
      "|         loveislove|        24|\n",
      "+-------------------+----------+\n",
      "\n"
     ]
    }
   ],
   "source": [
    "results2.select('hashtag','prediction').filter(results2.prediction==24).show()"
   ]
  },
  {
   "cell_type": "markdown",
   "metadata": {},
   "source": [
    "---\n",
    "### Conclusion\n",
    "K-means is an unsupervised machine learning algorithem. That is to say you don't know the results of cluster and also the number of clusters should be tunned to choose a best one according to your own needs.\n",
    "\n",
    "From the result above, I think the hashtags who share similar count numbers at the same time are more likely to cluster together. In that way, some hashtags referring to the same event should have similarity to be clustered together. However, some hashtags lasting for a long time have no specific 'one-hot' characteritic. They are unlikeyly to be clustered correctly."
   ]
  }
 ],
 "metadata": {
  "kernelspec": {
   "display_name": "Python 3",
   "language": "python",
   "name": "python3"
  },
  "language_info": {
   "codemirror_mode": {
    "name": "ipython",
    "version": 3
   },
   "file_extension": ".py",
   "mimetype": "text/x-python",
   "name": "python",
   "nbconvert_exporter": "python",
   "pygments_lexer": "ipython3",
   "version": "3.6.3"
  }
 },
 "nbformat": 4,
 "nbformat_minor": 2
}
